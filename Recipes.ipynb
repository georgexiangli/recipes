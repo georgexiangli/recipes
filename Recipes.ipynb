{
 "cells": [
  {
   "cell_type": "code",
   "execution_count": 1,
   "metadata": {},
   "outputs": [
    {
     "name": "stdout",
     "output_type": "stream",
     "text": [
      "<class 'list'>\n",
      "{'id': 10259, 'cuisine': 'greek', 'ingredients': ['romaine lettuce', 'black olives', 'grape tomatoes', 'garlic', 'pepper', 'purple onion', 'seasoning', 'garbanzo beans', 'feta cheese crumbles']}\n"
     ]
    }
   ],
   "source": [
    "import json\n",
    "f = open('train.json')\n",
    "data = json.load(f)\n",
    "\n",
    "print(type(data))\n",
    "print(data[0])"
   ]
  },
  {
   "cell_type": "code",
   "execution_count": 2,
   "metadata": {},
   "outputs": [
    {
     "name": "stdout",
     "output_type": "stream",
     "text": [
      "greek\n",
      "Ingredient List: romainelettuce blackolives grapetomatoes garlic pepper purpleonion seasoning garbanzobeans fetacheesecrumbles\n",
      "\n",
      "southern_us\n",
      "Ingredient List: plainflour groundpepper salt tomatoes groundblackpepper thyme eggs greentomatoes yellowcornmeal milk vegetableoil\n",
      "\n",
      "filipino\n",
      "Ingredient List: eggs pepper salt mayonaise cookingoil greenchilies grilledchickenbreasts garlicpowder yellowonion soysauce butter chickenlivers\n",
      "\n",
      "indian\n",
      "Ingredient List: water vegetableoil wheat salt\n",
      "\n",
      "indian\n",
      "Ingredient List: blackpepper shallots cornflour cayennepepper onions garlicpaste milk butter salt lemonjuice water chilipowder passata oil groundcumin bonelesschickenskinlessthigh garammasala doublecream naturalyogurt bayleaf\n",
      "\n"
     ]
    }
   ],
   "source": [
    "# Get ingredient list\n",
    "ingredients = []\n",
    "for recipe in data:\n",
    "    # Remove spaces in list entries to preserve difference between 'grape tomatoes' and 'grape' and 'tomatoes'\n",
    "    ingredients_str = ' '.join([item.replace(' ','') for item in recipe['ingredients']])\n",
    "    ingredients.append(ingredients_str)\n",
    "        \n",
    "for i in range(5):\n",
    "    print(data[i]['cuisine'])\n",
    "    print(\"Ingredient List: %s\\n\" % ingredients[i])"
   ]
  },
  {
   "cell_type": "code",
   "execution_count": 3,
   "metadata": {},
   "outputs": [
    {
     "data": {
      "text/html": [
       "<div>\n",
       "<style scoped>\n",
       "    .dataframe tbody tr th:only-of-type {\n",
       "        vertical-align: middle;\n",
       "    }\n",
       "\n",
       "    .dataframe tbody tr th {\n",
       "        vertical-align: top;\n",
       "    }\n",
       "\n",
       "    .dataframe thead th {\n",
       "        text-align: right;\n",
       "    }\n",
       "</style>\n",
       "<table border=\"1\" class=\"dataframe\">\n",
       "  <thead>\n",
       "    <tr style=\"text-align: right;\">\n",
       "      <th></th>\n",
       "      <th>id</th>\n",
       "      <th>cuisine</th>\n",
       "      <th>ingredients</th>\n",
       "    </tr>\n",
       "  </thead>\n",
       "  <tbody>\n",
       "    <tr>\n",
       "      <th>0</th>\n",
       "      <td>10259</td>\n",
       "      <td>greek</td>\n",
       "      <td>[romaine lettuce, black olives, grape tomatoes...</td>\n",
       "    </tr>\n",
       "    <tr>\n",
       "      <th>1</th>\n",
       "      <td>25693</td>\n",
       "      <td>southern_us</td>\n",
       "      <td>[plain flour, ground pepper, salt, tomatoes, g...</td>\n",
       "    </tr>\n",
       "    <tr>\n",
       "      <th>2</th>\n",
       "      <td>20130</td>\n",
       "      <td>filipino</td>\n",
       "      <td>[eggs, pepper, salt, mayonaise, cooking oil, g...</td>\n",
       "    </tr>\n",
       "    <tr>\n",
       "      <th>3</th>\n",
       "      <td>22213</td>\n",
       "      <td>indian</td>\n",
       "      <td>[water, vegetable oil, wheat, salt]</td>\n",
       "    </tr>\n",
       "    <tr>\n",
       "      <th>4</th>\n",
       "      <td>13162</td>\n",
       "      <td>indian</td>\n",
       "      <td>[black pepper, shallots, cornflour, cayenne pe...</td>\n",
       "    </tr>\n",
       "    <tr>\n",
       "      <th>...</th>\n",
       "      <td>...</td>\n",
       "      <td>...</td>\n",
       "      <td>...</td>\n",
       "    </tr>\n",
       "    <tr>\n",
       "      <th>39769</th>\n",
       "      <td>29109</td>\n",
       "      <td>irish</td>\n",
       "      <td>[light brown sugar, granulated sugar, butter, ...</td>\n",
       "    </tr>\n",
       "    <tr>\n",
       "      <th>39770</th>\n",
       "      <td>11462</td>\n",
       "      <td>italian</td>\n",
       "      <td>[KRAFT Zesty Italian Dressing, purple onion, b...</td>\n",
       "    </tr>\n",
       "    <tr>\n",
       "      <th>39771</th>\n",
       "      <td>2238</td>\n",
       "      <td>irish</td>\n",
       "      <td>[eggs, citrus fruit, raisins, sourdough starte...</td>\n",
       "    </tr>\n",
       "    <tr>\n",
       "      <th>39772</th>\n",
       "      <td>41882</td>\n",
       "      <td>chinese</td>\n",
       "      <td>[boneless chicken skinless thigh, minced garli...</td>\n",
       "    </tr>\n",
       "    <tr>\n",
       "      <th>39773</th>\n",
       "      <td>2362</td>\n",
       "      <td>mexican</td>\n",
       "      <td>[green chile, jalapeno chilies, onions, ground...</td>\n",
       "    </tr>\n",
       "  </tbody>\n",
       "</table>\n",
       "<p>39774 rows × 3 columns</p>\n",
       "</div>"
      ],
      "text/plain": [
       "          id      cuisine                                        ingredients\n",
       "0      10259        greek  [romaine lettuce, black olives, grape tomatoes...\n",
       "1      25693  southern_us  [plain flour, ground pepper, salt, tomatoes, g...\n",
       "2      20130     filipino  [eggs, pepper, salt, mayonaise, cooking oil, g...\n",
       "3      22213       indian                [water, vegetable oil, wheat, salt]\n",
       "4      13162       indian  [black pepper, shallots, cornflour, cayenne pe...\n",
       "...      ...          ...                                                ...\n",
       "39769  29109        irish  [light brown sugar, granulated sugar, butter, ...\n",
       "39770  11462      italian  [KRAFT Zesty Italian Dressing, purple onion, b...\n",
       "39771   2238        irish  [eggs, citrus fruit, raisins, sourdough starte...\n",
       "39772  41882      chinese  [boneless chicken skinless thigh, minced garli...\n",
       "39773   2362      mexican  [green chile, jalapeno chilies, onions, ground...\n",
       "\n",
       "[39774 rows x 3 columns]"
      ]
     },
     "execution_count": 3,
     "metadata": {},
     "output_type": "execute_result"
    }
   ],
   "source": [
    "import pandas as pd\n",
    "\n",
    "df = pd.DataFrame(data)\n",
    "df"
   ]
  },
  {
   "cell_type": "code",
   "execution_count": 4,
   "metadata": {},
   "outputs": [
    {
     "name": "stdout",
     "output_type": "stream",
     "text": [
      "Total classes: 20\n",
      "Total examples: 39774\n",
      "italian         7838\t0.1971\n",
      "mexican         6438\t0.1619\n",
      "southern_us     4320\t0.1086\n",
      "indian          3003\t0.0755\n",
      "chinese         2673\t0.0672\n",
      "french          2646\t0.0665\n",
      "cajun_creole    1546\t0.0389\n",
      "thai            1539\t0.0387\n",
      "japanese        1423\t0.0358\n",
      "greek           1175\t0.0295\n",
      "spanish         989\t0.0249\n",
      "korean          830\t0.0209\n",
      "vietnamese      825\t0.0207\n",
      "moroccan        821\t0.0206\n",
      "british         804\t0.0202\n",
      "filipino        755\t0.0190\n",
      "irish           667\t0.0168\n",
      "jamaican        526\t0.0132\n",
      "russian         489\t0.0123\n",
      "brazilian       467\t0.0117\n"
     ]
    }
   ],
   "source": [
    "# Find unique classes and check for imbalance\n",
    "value_counts = df['cuisine'].value_counts()\n",
    "\n",
    "print(\"Total classes: %d\" % (len(value_counts)))\n",
    "\n",
    "num_examples = len(df.index)\n",
    "print(\"Total examples: %d\" % (num_examples))\n",
    "\n",
    "for label, content in value_counts.items():\n",
    "    print(\"%-*s%d\\t%1.4f\" % (16, label, content, (content / num_examples)))\n",
    "    \n",
    "# 14 out of the 20 features contain less than 5% of the features each\n",
    "# We'll need to account for imbalance"
   ]
  },
  {
   "cell_type": "code",
   "execution_count": 5,
   "metadata": {},
   "outputs": [
    {
     "name": "stdout",
     "output_type": "stream",
     "text": [
      "6782\n",
      "['10oz', '14', '14oz', '15oz', '1inchthick', '21', '25', '2to3lb', '33', '40', '5oz', '7up', '8ounczitipasta', '95', 'abalone', 'abbamele', 'absinthe', 'aburaage', 'acaijuice', 'accent', 'accentseasoning', 'accompaniment', 'achiote', 'achiotepaste', 'achiotepowder', 'acinidipepe', 'ackee', 'acornsquash', 'actingbakingpowder', 'activ', 'activedryyeast', 'addedblackbeans', 'addeddicedtomatoes', 'adobo', 'adoboallpurposeseasoning', 'adobosauce', 'adoboseasoning', 'adobostyleseasoning', 'adzukibeans', 'agar', 'agaragarflakes', 'agavenectar', 'agavetequila', 'agedbalsamicvinegar', 'agedcheddarcheese', 'agedgouda', 'agedmanchegocheese', 'ahi', 'ahitunasteaks', 'aioli']\n"
     ]
    }
   ],
   "source": [
    "from sklearn.feature_extraction.text import CountVectorizer\n",
    "vectorizer = CountVectorizer(dtype = 'uint8')\n",
    "\n",
    "X = vectorizer.fit_transform(ingredients)\n",
    "\n",
    "features = vectorizer.get_feature_names()\n",
    "\n",
    "print(len(features))\n",
    "print(features[0:50])\n",
    "\n",
    "# Conversion to sparse matrix\n",
    "vectorizer_data = X.toarray()"
   ]
  },
  {
   "cell_type": "code",
   "execution_count": 6,
   "metadata": {},
   "outputs": [
    {
     "name": "stdout",
     "output_type": "stream",
     "text": [
      "Feature count: 6782\n",
      "Percentile: 0.8505\n"
     ]
    }
   ],
   "source": [
    "import numpy as np\n",
    "\n",
    "# Get total counts for each ingredient across recipes\n",
    "feature_counts = vectorizer_data.sum(axis = 0)\n",
    "print(\"Feature count: %d\" % (len(feature_counts)))\n",
    "\n",
    "# Percentile of ingredients that appear in 50 or more recipes\n",
    "percentile = round(sum(feature_counts < 50) / len(feature_counts), 4)\n",
    "print(\"Percentile: %1.4f\" % (percentile))"
   ]
  },
  {
   "cell_type": "code",
   "execution_count": 7,
   "metadata": {},
   "outputs": [
    {
     "name": "stdout",
     "output_type": "stream",
     "text": [
      "(39774, 996)\n"
     ]
    }
   ],
   "source": [
    "# Grab mask of where ingredient is used 50 times or more in data set\n",
    "# Choose 50 because in the best case the ingredient shows up in ~10% of a cuisine's recipes\n",
    "states = feature_counts > 50\n",
    "\n",
    "remaining_indices = list(np.where(states == True)[0])\n",
    "deleted_indices = list(np.where(states == False)[0])\n",
    "\n",
    "features = np.array(features)\n",
    "features = features[remaining_indices]\n",
    "\n",
    "vectorizer_data = np.delete(vectorizer_data, deleted_indices, axis = 1)\n",
    "print(vectorizer_data.shape)\n",
    "vectorized_df = pd.DataFrame(data = vectorizer_data, columns = features)"
   ]
  },
  {
   "cell_type": "code",
   "execution_count": 8,
   "metadata": {},
   "outputs": [
    {
     "data": {
      "text/html": [
       "<div>\n",
       "<style scoped>\n",
       "    .dataframe tbody tr th:only-of-type {\n",
       "        vertical-align: middle;\n",
       "    }\n",
       "\n",
       "    .dataframe tbody tr th {\n",
       "        vertical-align: top;\n",
       "    }\n",
       "\n",
       "    .dataframe thead th {\n",
       "        text-align: right;\n",
       "    }\n",
       "</style>\n",
       "<table border=\"1\" class=\"dataframe\">\n",
       "  <thead>\n",
       "    <tr style=\"text-align: right;\">\n",
       "      <th></th>\n",
       "      <th>id</th>\n",
       "      <th>cuisine</th>\n",
       "      <th>ingredients</th>\n",
       "      <th>activedryyeast</th>\n",
       "      <th>adobosauce</th>\n",
       "      <th>agavenectar</th>\n",
       "      <th>alfredosauce</th>\n",
       "      <th>all</th>\n",
       "      <th>allpurposeunbleachedflour</th>\n",
       "      <th>allspice</th>\n",
       "      <th>...</th>\n",
       "      <th>worcestershiresauce</th>\n",
       "      <th>yeast</th>\n",
       "      <th>yellowbellpepper</th>\n",
       "      <th>yellowcornmeal</th>\n",
       "      <th>yellowonion</th>\n",
       "      <th>yellowpeppers</th>\n",
       "      <th>yellowsquash</th>\n",
       "      <th>yoghurt</th>\n",
       "      <th>yukongoldpotatoes</th>\n",
       "      <th>zucchini</th>\n",
       "    </tr>\n",
       "  </thead>\n",
       "  <tbody>\n",
       "    <tr>\n",
       "      <th>0</th>\n",
       "      <td>10259</td>\n",
       "      <td>greek</td>\n",
       "      <td>[romaine lettuce, black olives, grape tomatoes...</td>\n",
       "      <td>0</td>\n",
       "      <td>0</td>\n",
       "      <td>0</td>\n",
       "      <td>0</td>\n",
       "      <td>0</td>\n",
       "      <td>0</td>\n",
       "      <td>0</td>\n",
       "      <td>...</td>\n",
       "      <td>0</td>\n",
       "      <td>0</td>\n",
       "      <td>0</td>\n",
       "      <td>0</td>\n",
       "      <td>0</td>\n",
       "      <td>0</td>\n",
       "      <td>0</td>\n",
       "      <td>0</td>\n",
       "      <td>0</td>\n",
       "      <td>0</td>\n",
       "    </tr>\n",
       "    <tr>\n",
       "      <th>1</th>\n",
       "      <td>25693</td>\n",
       "      <td>southern_us</td>\n",
       "      <td>[plain flour, ground pepper, salt, tomatoes, g...</td>\n",
       "      <td>0</td>\n",
       "      <td>0</td>\n",
       "      <td>0</td>\n",
       "      <td>0</td>\n",
       "      <td>0</td>\n",
       "      <td>0</td>\n",
       "      <td>0</td>\n",
       "      <td>...</td>\n",
       "      <td>0</td>\n",
       "      <td>0</td>\n",
       "      <td>0</td>\n",
       "      <td>1</td>\n",
       "      <td>0</td>\n",
       "      <td>0</td>\n",
       "      <td>0</td>\n",
       "      <td>0</td>\n",
       "      <td>0</td>\n",
       "      <td>0</td>\n",
       "    </tr>\n",
       "    <tr>\n",
       "      <th>2</th>\n",
       "      <td>20130</td>\n",
       "      <td>filipino</td>\n",
       "      <td>[eggs, pepper, salt, mayonaise, cooking oil, g...</td>\n",
       "      <td>0</td>\n",
       "      <td>0</td>\n",
       "      <td>0</td>\n",
       "      <td>0</td>\n",
       "      <td>0</td>\n",
       "      <td>0</td>\n",
       "      <td>0</td>\n",
       "      <td>...</td>\n",
       "      <td>0</td>\n",
       "      <td>0</td>\n",
       "      <td>0</td>\n",
       "      <td>0</td>\n",
       "      <td>1</td>\n",
       "      <td>0</td>\n",
       "      <td>0</td>\n",
       "      <td>0</td>\n",
       "      <td>0</td>\n",
       "      <td>0</td>\n",
       "    </tr>\n",
       "    <tr>\n",
       "      <th>3</th>\n",
       "      <td>22213</td>\n",
       "      <td>indian</td>\n",
       "      <td>[water, vegetable oil, wheat, salt]</td>\n",
       "      <td>0</td>\n",
       "      <td>0</td>\n",
       "      <td>0</td>\n",
       "      <td>0</td>\n",
       "      <td>0</td>\n",
       "      <td>0</td>\n",
       "      <td>0</td>\n",
       "      <td>...</td>\n",
       "      <td>0</td>\n",
       "      <td>0</td>\n",
       "      <td>0</td>\n",
       "      <td>0</td>\n",
       "      <td>0</td>\n",
       "      <td>0</td>\n",
       "      <td>0</td>\n",
       "      <td>0</td>\n",
       "      <td>0</td>\n",
       "      <td>0</td>\n",
       "    </tr>\n",
       "    <tr>\n",
       "      <th>4</th>\n",
       "      <td>13162</td>\n",
       "      <td>indian</td>\n",
       "      <td>[black pepper, shallots, cornflour, cayenne pe...</td>\n",
       "      <td>0</td>\n",
       "      <td>0</td>\n",
       "      <td>0</td>\n",
       "      <td>0</td>\n",
       "      <td>0</td>\n",
       "      <td>0</td>\n",
       "      <td>0</td>\n",
       "      <td>...</td>\n",
       "      <td>0</td>\n",
       "      <td>0</td>\n",
       "      <td>0</td>\n",
       "      <td>0</td>\n",
       "      <td>0</td>\n",
       "      <td>0</td>\n",
       "      <td>0</td>\n",
       "      <td>0</td>\n",
       "      <td>0</td>\n",
       "      <td>0</td>\n",
       "    </tr>\n",
       "  </tbody>\n",
       "</table>\n",
       "<p>5 rows × 999 columns</p>\n",
       "</div>"
      ],
      "text/plain": [
       "      id      cuisine                                        ingredients  \\\n",
       "0  10259        greek  [romaine lettuce, black olives, grape tomatoes...   \n",
       "1  25693  southern_us  [plain flour, ground pepper, salt, tomatoes, g...   \n",
       "2  20130     filipino  [eggs, pepper, salt, mayonaise, cooking oil, g...   \n",
       "3  22213       indian                [water, vegetable oil, wheat, salt]   \n",
       "4  13162       indian  [black pepper, shallots, cornflour, cayenne pe...   \n",
       "\n",
       "   activedryyeast  adobosauce  agavenectar  alfredosauce  all  \\\n",
       "0               0           0            0             0    0   \n",
       "1               0           0            0             0    0   \n",
       "2               0           0            0             0    0   \n",
       "3               0           0            0             0    0   \n",
       "4               0           0            0             0    0   \n",
       "\n",
       "   allpurposeunbleachedflour  allspice  ...  worcestershiresauce  yeast  \\\n",
       "0                          0         0  ...                    0      0   \n",
       "1                          0         0  ...                    0      0   \n",
       "2                          0         0  ...                    0      0   \n",
       "3                          0         0  ...                    0      0   \n",
       "4                          0         0  ...                    0      0   \n",
       "\n",
       "   yellowbellpepper  yellowcornmeal  yellowonion  yellowpeppers  yellowsquash  \\\n",
       "0                 0               0            0              0             0   \n",
       "1                 0               1            0              0             0   \n",
       "2                 0               0            1              0             0   \n",
       "3                 0               0            0              0             0   \n",
       "4                 0               0            0              0             0   \n",
       "\n",
       "   yoghurt  yukongoldpotatoes  zucchini  \n",
       "0        0                  0         0  \n",
       "1        0                  0         0  \n",
       "2        0                  0         0  \n",
       "3        0                  0         0  \n",
       "4        0                  0         0  \n",
       "\n",
       "[5 rows x 999 columns]"
      ]
     },
     "execution_count": 8,
     "metadata": {},
     "output_type": "execute_result"
    }
   ],
   "source": [
    "df = df.join(vectorized_df)\n",
    "df.head()"
   ]
  },
  {
   "cell_type": "code",
   "execution_count": 9,
   "metadata": {},
   "outputs": [
    {
     "data": {
      "text/plain": [
       "(39774, 997)"
      ]
     },
     "execution_count": 9,
     "metadata": {},
     "output_type": "execute_result"
    }
   ],
   "source": [
    "del df['id']\n",
    "del df['ingredients']\n",
    "df.shape"
   ]
  },
  {
   "cell_type": "code",
   "execution_count": 10,
   "metadata": {},
   "outputs": [],
   "source": [
    "y = df['cuisine']\n",
    "del df['cuisine']\n",
    "X = df"
   ]
  },
  {
   "cell_type": "code",
   "execution_count": 11,
   "metadata": {},
   "outputs": [],
   "source": [
    "# Logistic Regression Implementation\n",
    "\n",
    "from sklearn.linear_model import LogisticRegression\n",
    "from sklearn.model_selection import cross_val_score\n",
    "\n",
    "log_clf = LogisticRegression(max_iter = 1000)"
   ]
  },
  {
   "cell_type": "code",
   "execution_count": 12,
   "metadata": {},
   "outputs": [],
   "source": [
    "# Cross validation\n",
    "# Commented out because it takes a while to run\n",
    "\n",
    "# scores_log = cross_val_score(log_clf, X, y, cv = 5)\n",
    "# print(\"Cross Validations Score for Logistic Regression\\n%s\\nmean: %1.4f standard deviation: %1.4f\\n\" % (str(scores_log), np.mean(scores_log), np.std(scores_log)))\n",
    "\n",
    "# Overall accuracy in cross validation is 75%\n",
    "# This seems like a good start, but the data is imbalanced so this number can be misleading\n",
    "# We will need to review precision and recall statistics"
   ]
  },
  {
   "cell_type": "code",
   "execution_count": 13,
   "metadata": {},
   "outputs": [],
   "source": [
    "# Train Test Split\n",
    "from sklearn.model_selection import train_test_split\n",
    "\n",
    "# setting up testing and training sets\n",
    "X_train, X_test, y_train, y_test = train_test_split(X, y, test_size=0.25, random_state=27)\n",
    "\n",
    "log_fit = log_clf.fit(X_train, y_train)\n",
    "log_pred = log_fit.predict(X_test)"
   ]
  },
  {
   "cell_type": "code",
   "execution_count": 14,
   "metadata": {},
   "outputs": [
    {
     "name": "stdout",
     "output_type": "stream",
     "text": [
      "              precision    recall  f1-score   support\n",
      "\n",
      "   brazilian       0.58      0.38      0.46       115\n",
      "     british       0.35      0.26      0.29       180\n",
      "cajun_creole       0.76      0.66      0.71       397\n",
      "     chinese       0.79      0.81      0.80       655\n",
      "    filipino       0.67      0.54      0.60       199\n",
      "      french       0.58      0.56      0.57       684\n",
      "       greek       0.79      0.66      0.72       297\n",
      "      indian       0.87      0.88      0.87       774\n",
      "       irish       0.53      0.33      0.41       174\n",
      "     italian       0.75      0.87      0.81      1903\n",
      "    jamaican       0.80      0.55      0.66       141\n",
      "    japanese       0.77      0.65      0.70       351\n",
      "      korean       0.81      0.80      0.81       203\n",
      "     mexican       0.88      0.91      0.89      1644\n",
      "    moroccan       0.77      0.71      0.74       217\n",
      "     russian       0.59      0.46      0.52       119\n",
      " southern_us       0.65      0.77      0.71      1038\n",
      "     spanish       0.61      0.44      0.51       250\n",
      "        thai       0.74      0.71      0.73       379\n",
      "  vietnamese       0.68      0.55      0.61       224\n",
      "\n",
      "    accuracy                           0.75      9944\n",
      "   macro avg       0.70      0.63      0.66      9944\n",
      "weighted avg       0.74      0.75      0.74      9944\n",
      "\n"
     ]
    }
   ],
   "source": [
    "# The model performs well on Mexican and Indian food\n",
    "# Performance is poor on cuisine with fewer examples\n",
    "# Performance on Italian and southern US food can be improved though they are among the most represented in the data set\n",
    "\n",
    "from sklearn.metrics import classification_report\n",
    "print(classification_report(y_test, log_pred, zero_division=0))"
   ]
  },
  {
   "cell_type": "code",
   "execution_count": 15,
   "metadata": {},
   "outputs": [
    {
     "name": "stdout",
     "output_type": "stream",
     "text": [
      "              precision    recall  f1-score   support\n",
      "\n",
      "   brazilian       0.42      0.42      0.42       115\n",
      "     british       0.21      0.22      0.21       180\n",
      "cajun_creole       0.57      0.50      0.54       397\n",
      "     chinese       0.60      0.65      0.63       655\n",
      "    filipino       0.42      0.38      0.40       199\n",
      "      french       0.39      0.40      0.40       684\n",
      "       greek       0.45      0.46      0.46       297\n",
      "      indian       0.72      0.72      0.72       774\n",
      "       irish       0.26      0.21      0.23       174\n",
      "     italian       0.68      0.71      0.69      1903\n",
      "    jamaican       0.42      0.32      0.36       141\n",
      "    japanese       0.52      0.52      0.52       351\n",
      "      korean       0.49      0.49      0.49       203\n",
      "     mexican       0.75      0.78      0.77      1644\n",
      "    moroccan       0.49      0.44      0.46       217\n",
      "     russian       0.33      0.29      0.31       119\n",
      " southern_us       0.53      0.55      0.54      1038\n",
      "     spanish       0.30      0.28      0.29       250\n",
      "        thai       0.57      0.56      0.57       379\n",
      "  vietnamese       0.45      0.34      0.39       224\n",
      "\n",
      "    accuracy                           0.58      9944\n",
      "   macro avg       0.48      0.46      0.47      9944\n",
      "weighted avg       0.58      0.58      0.58      9944\n",
      "\n"
     ]
    }
   ],
   "source": [
    "# Similar trend to logistic regression\n",
    "# Slightly worse overall\n",
    "from sklearn.tree import DecisionTreeClassifier\n",
    "\n",
    "dt_clf = DecisionTreeClassifier()\n",
    "dt_fit = dt_clf.fit(X_train, y_train)\n",
    "dt_pred = dt_clf.predict(X_test)\n",
    "print(classification_report(y_test, dt_pred, zero_division=0))"
   ]
  },
  {
   "cell_type": "code",
   "execution_count": 16,
   "metadata": {
    "scrolled": true
   },
   "outputs": [
    {
     "name": "stdout",
     "output_type": "stream",
     "text": [
      "              precision    recall  f1-score   support\n",
      "\n",
      "   brazilian       0.67      0.35      0.46       115\n",
      "     british       0.41      0.16      0.23       180\n",
      "cajun_creole       0.77      0.59      0.67       397\n",
      "     chinese       0.69      0.82      0.75       655\n",
      "    filipino       0.60      0.44      0.51       199\n",
      "      french       0.50      0.47      0.49       684\n",
      "       greek       0.71      0.54      0.61       297\n",
      "      indian       0.78      0.87      0.82       774\n",
      "       irish       0.42      0.20      0.27       174\n",
      "     italian       0.69      0.86      0.76      1903\n",
      "    jamaican       0.85      0.33      0.48       141\n",
      "    japanese       0.71      0.59      0.64       351\n",
      "      korean       0.68      0.62      0.65       203\n",
      "     mexican       0.79      0.89      0.84      1644\n",
      "    moroccan       0.70      0.53      0.60       217\n",
      "     russian       0.65      0.20      0.31       119\n",
      " southern_us       0.58      0.70      0.63      1038\n",
      "     spanish       0.59      0.25      0.35       250\n",
      "        thai       0.74      0.68      0.71       379\n",
      "  vietnamese       0.76      0.44      0.56       224\n",
      "\n",
      "    accuracy                           0.69      9944\n",
      "   macro avg       0.67      0.53      0.57      9944\n",
      "weighted avg       0.68      0.69      0.67      9944\n",
      "\n"
     ]
    }
   ],
   "source": [
    "# Similar trends and performance to logistic regression\n",
    "# Reduced n_estimators because precision was high but recall was low, implying overfit\n",
    "from sklearn.ensemble import RandomForestClassifier\n",
    "\n",
    "rf_clf = RandomForestClassifier(n_estimators = 50)\n",
    "rf_fit = rf_clf.fit(X_train, y_train)\n",
    "rf_pred = rf_clf.predict(X_test)\n",
    "print(classification_report(y_test, rf_pred, zero_division=0))"
   ]
  },
  {
   "cell_type": "code",
   "execution_count": 17,
   "metadata": {},
   "outputs": [
    {
     "name": "stdout",
     "output_type": "stream",
     "text": [
      "6782\n",
      "['10oz', '14', '14oz', '15oz', '1inchthick', '21', '25', '2to3lb', '33', '40', '5oz', '7up', '8ounczitipasta', '95', 'abalone', 'abbamele', 'absinthe', 'aburaage', 'acaijuice', 'accent', 'accentseasoning', 'accompaniment', 'achiote', 'achiotepaste', 'achiotepowder', 'acinidipepe', 'ackee', 'acornsquash', 'actingbakingpowder', 'activ', 'activedryyeast', 'addedblackbeans', 'addeddicedtomatoes', 'adobo', 'adoboallpurposeseasoning', 'adobosauce', 'adoboseasoning', 'adobostyleseasoning', 'adzukibeans', 'agar', 'agaragarflakes', 'agavenectar', 'agavetequila', 'agedbalsamicvinegar', 'agedcheddarcheese', 'agedgouda', 'agedmanchegocheese', 'ahi', 'ahitunasteaks', 'aioli']\n"
     ]
    }
   ],
   "source": [
    "# Potential Overfit\n",
    "# Model could be looking at a highly specific set of ingredients\n",
    "# Solutions: Reduce feature count, find alternative methods of feature engineering\n",
    "# Next step: TF-IDF\n",
    "\n",
    "from sklearn.feature_extraction.text import TfidfVectorizer\n",
    "\n",
    "vectorizer = TfidfVectorizer()\n",
    "X = vectorizer.fit_transform(ingredients)\n",
    "\n",
    "features = vectorizer.get_feature_names()\n",
    "\n",
    "print(len(features))\n",
    "print(features[0:50])\n",
    "\n",
    "# Conversion to sparse matrix\n",
    "vectorizer_data = X.toarray()"
   ]
  },
  {
   "cell_type": "code",
   "execution_count": 18,
   "metadata": {},
   "outputs": [],
   "source": [
    "features = np.array(features)\n",
    "X = pd.DataFrame(data = vectorizer_data, columns = features)"
   ]
  },
  {
   "cell_type": "code",
   "execution_count": 19,
   "metadata": {},
   "outputs": [],
   "source": [
    "# setting up testing and training sets\n",
    "X_train, X_test, y_train, y_test = train_test_split(X, y, test_size=0.25, random_state=27)\n",
    "\n",
    "log_clf = LogisticRegression(max_iter = 1000)\n",
    "\n",
    "log_fit = log_clf.fit(X_train, y_train)\n",
    "log_pred = log_fit.predict(X_test)"
   ]
  },
  {
   "cell_type": "code",
   "execution_count": 20,
   "metadata": {},
   "outputs": [
    {
     "name": "stdout",
     "output_type": "stream",
     "text": [
      "              precision    recall  f1-score   support\n",
      "\n",
      "   brazilian       0.78      0.35      0.48       115\n",
      "     british       0.47      0.24      0.32       180\n",
      "cajun_creole       0.81      0.66      0.73       397\n",
      "     chinese       0.77      0.86      0.81       655\n",
      "    filipino       0.75      0.52      0.62       199\n",
      "      french       0.60      0.60      0.60       684\n",
      "       greek       0.80      0.61      0.69       297\n",
      "      indian       0.87      0.92      0.89       774\n",
      "       irish       0.78      0.34      0.48       174\n",
      "     italian       0.74      0.91      0.81      1903\n",
      "    jamaican       0.92      0.57      0.70       141\n",
      "    japanese       0.87      0.66      0.75       351\n",
      "      korean       0.86      0.72      0.78       203\n",
      "     mexican       0.88      0.92      0.90      1644\n",
      "    moroccan       0.89      0.73      0.80       217\n",
      "     russian       0.73      0.36      0.48       119\n",
      " southern_us       0.64      0.82      0.72      1038\n",
      "     spanish       0.72      0.40      0.51       250\n",
      "        thai       0.77      0.77      0.77       379\n",
      "  vietnamese       0.78      0.50      0.60       224\n",
      "\n",
      "    accuracy                           0.77      9944\n",
      "   macro avg       0.77      0.62      0.67      9944\n",
      "weighted avg       0.77      0.77      0.76      9944\n",
      "\n"
     ]
    }
   ],
   "source": [
    "# Overall, slightly better scores than count vectorization\n",
    "# Precision is decent but recall is bad, implying overfit\n",
    "# We can try dropping features with low TFIDF, this can help drop ingredients that are common across all cuisines\n",
    "\n",
    "print(classification_report(y_test, log_pred, zero_division=0))"
   ]
  }
 ],
 "metadata": {
  "kernelspec": {
   "display_name": "Python 3",
   "language": "python",
   "name": "python3"
  },
  "language_info": {
   "codemirror_mode": {
    "name": "ipython",
    "version": 3
   },
   "file_extension": ".py",
   "mimetype": "text/x-python",
   "name": "python",
   "nbconvert_exporter": "python",
   "pygments_lexer": "ipython3",
   "version": "3.8.5"
  }
 },
 "nbformat": 4,
 "nbformat_minor": 4
}
